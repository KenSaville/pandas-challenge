{
 "cells": [
  {
   "cell_type": "code",
   "execution_count": 1,
   "metadata": {},
   "outputs": [],
   "source": [
    "import pandas as pd"
   ]
  },
  {
   "cell_type": "code",
   "execution_count": 2,
   "metadata": {},
   "outputs": [],
   "source": [
    "df = pd.read_csv (\"resources/purchase_data.csv\")"
   ]
  },
  {
   "cell_type": "markdown",
   "metadata": {},
   "source": [
    "# First look at the data"
   ]
  },
  {
   "cell_type": "code",
   "execution_count": 3,
   "metadata": {},
   "outputs": [
    {
     "data": {
      "text/html": [
       "<div>\n",
       "<style scoped>\n",
       "    .dataframe tbody tr th:only-of-type {\n",
       "        vertical-align: middle;\n",
       "    }\n",
       "\n",
       "    .dataframe tbody tr th {\n",
       "        vertical-align: top;\n",
       "    }\n",
       "\n",
       "    .dataframe thead th {\n",
       "        text-align: right;\n",
       "    }\n",
       "</style>\n",
       "<table border=\"1\" class=\"dataframe\">\n",
       "  <thead>\n",
       "    <tr style=\"text-align: right;\">\n",
       "      <th></th>\n",
       "      <th>Purchase ID</th>\n",
       "      <th>SN</th>\n",
       "      <th>Age</th>\n",
       "      <th>Gender</th>\n",
       "      <th>Item ID</th>\n",
       "      <th>Item Name</th>\n",
       "      <th>Price</th>\n",
       "    </tr>\n",
       "  </thead>\n",
       "  <tbody>\n",
       "    <tr>\n",
       "      <th>0</th>\n",
       "      <td>0</td>\n",
       "      <td>Lisim78</td>\n",
       "      <td>20</td>\n",
       "      <td>Male</td>\n",
       "      <td>108</td>\n",
       "      <td>Extraction, Quickblade Of Trembling Hands</td>\n",
       "      <td>3.53</td>\n",
       "    </tr>\n",
       "    <tr>\n",
       "      <th>1</th>\n",
       "      <td>1</td>\n",
       "      <td>Lisovynya38</td>\n",
       "      <td>40</td>\n",
       "      <td>Male</td>\n",
       "      <td>143</td>\n",
       "      <td>Frenzied Scimitar</td>\n",
       "      <td>1.56</td>\n",
       "    </tr>\n",
       "    <tr>\n",
       "      <th>2</th>\n",
       "      <td>2</td>\n",
       "      <td>Ithergue48</td>\n",
       "      <td>24</td>\n",
       "      <td>Male</td>\n",
       "      <td>92</td>\n",
       "      <td>Final Critic</td>\n",
       "      <td>4.88</td>\n",
       "    </tr>\n",
       "    <tr>\n",
       "      <th>3</th>\n",
       "      <td>3</td>\n",
       "      <td>Chamassasya86</td>\n",
       "      <td>24</td>\n",
       "      <td>Male</td>\n",
       "      <td>100</td>\n",
       "      <td>Blindscythe</td>\n",
       "      <td>3.27</td>\n",
       "    </tr>\n",
       "    <tr>\n",
       "      <th>4</th>\n",
       "      <td>4</td>\n",
       "      <td>Iskosia90</td>\n",
       "      <td>23</td>\n",
       "      <td>Male</td>\n",
       "      <td>131</td>\n",
       "      <td>Fury</td>\n",
       "      <td>1.44</td>\n",
       "    </tr>\n",
       "  </tbody>\n",
       "</table>\n",
       "</div>"
      ],
      "text/plain": [
       "   Purchase ID             SN  Age Gender  Item ID  \\\n",
       "0            0        Lisim78   20   Male      108   \n",
       "1            1    Lisovynya38   40   Male      143   \n",
       "2            2     Ithergue48   24   Male       92   \n",
       "3            3  Chamassasya86   24   Male      100   \n",
       "4            4      Iskosia90   23   Male      131   \n",
       "\n",
       "                                   Item Name  Price  \n",
       "0  Extraction, Quickblade Of Trembling Hands   3.53  \n",
       "1                          Frenzied Scimitar   1.56  \n",
       "2                               Final Critic   4.88  \n",
       "3                                Blindscythe   3.27  \n",
       "4                                       Fury   1.44  "
      ]
     },
     "execution_count": 3,
     "metadata": {},
     "output_type": "execute_result"
    }
   ],
   "source": [
    "df.head()"
   ]
  },
  {
   "cell_type": "code",
   "execution_count": 4,
   "metadata": {},
   "outputs": [],
   "source": [
    "#Player Count"
   ]
  },
  {
   "cell_type": "markdown",
   "metadata": {},
   "source": [
    "players = {}\n",
    "player_count = len(df['SN'].value_counts())\n",
    "players['Total Players'] = [player_count]\n",
    "players_df = pd.DataFrame.from_dict(players)\n",
    "players_df"
   ]
  },
  {
   "cell_type": "markdown",
   "metadata": {},
   "source": [
    "# Purchasing Analysis"
   ]
  },
  {
   "cell_type": "code",
   "execution_count": 5,
   "metadata": {},
   "outputs": [
    {
     "data": {
      "text/html": [
       "<div>\n",
       "<style scoped>\n",
       "    .dataframe tbody tr th:only-of-type {\n",
       "        vertical-align: middle;\n",
       "    }\n",
       "\n",
       "    .dataframe tbody tr th {\n",
       "        vertical-align: top;\n",
       "    }\n",
       "\n",
       "    .dataframe thead th {\n",
       "        text-align: right;\n",
       "    }\n",
       "</style>\n",
       "<table border=\"1\" class=\"dataframe\">\n",
       "  <thead>\n",
       "    <tr style=\"text-align: right;\">\n",
       "      <th></th>\n",
       "      <th>number of unique items</th>\n",
       "      <th>Average Price</th>\n",
       "      <th>Total revenue</th>\n",
       "      <th>Number of Purchases</th>\n",
       "    </tr>\n",
       "  </thead>\n",
       "  <tbody>\n",
       "    <tr>\n",
       "      <th>0</th>\n",
       "      <td>179</td>\n",
       "      <td>3.04</td>\n",
       "      <td>2379.77</td>\n",
       "      <td>780</td>\n",
       "    </tr>\n",
       "  </tbody>\n",
       "</table>\n",
       "</div>"
      ],
      "text/plain": [
       "   number of unique items  Average Price  Total revenue  Number of Purchases\n",
       "0                     179           3.04        2379.77                  780"
      ]
     },
     "execution_count": 5,
     "metadata": {},
     "output_type": "execute_result"
    }
   ],
   "source": [
    "\n",
    "#look at names\n",
    "df['SN'].value_counts()\n",
    "\n",
    "#group by names\n",
    "gby_SN = df.groupby(['SN'])\n",
    "\n",
    "#total names (actually total purchases, because name is listed for ea purchase)\n",
    "gby_SN.count()\n",
    "\n",
    "#calculate unique items\n",
    "unique_items = len(df['Item ID'].value_counts())\n",
    "\n",
    "#group by item name\n",
    "gby_item_name = df.groupby(['Item Name'])\n",
    "\n",
    "#calculate total revenue\n",
    "total_revenue = df['Price'].sum()\n",
    "\n",
    "#calculate number of purchase\n",
    "number_of_purchases = df['Purchase ID'].count()\n",
    "\n",
    "#calculate mean price\n",
    "mean_price = round(gby_item_name['Price'].mean().mean(),2)\n",
    "\n",
    "#add all values to dict\n",
    "purchasing = {'number of unique items': [unique_items],\n",
    "           'Average Price': [mean_price],\n",
    "           'Total revenue': [total_revenue],\n",
    "           'Number of Purchases' : [number_of_purchases]}\n",
    "\n",
    "purchasing_df = pd.DataFrame.from_dict(purchasing)\n",
    "purchasing_df\n",
    "                                                                                "
   ]
  },
  {
   "cell_type": "markdown",
   "metadata": {},
   "source": [
    "# Gender Demographics"
   ]
  },
  {
   "cell_type": "code",
   "execution_count": 6,
   "metadata": {},
   "outputs": [
    {
     "data": {
      "text/html": [
       "<div>\n",
       "<style scoped>\n",
       "    .dataframe tbody tr th:only-of-type {\n",
       "        vertical-align: middle;\n",
       "    }\n",
       "\n",
       "    .dataframe tbody tr th {\n",
       "        vertical-align: top;\n",
       "    }\n",
       "\n",
       "    .dataframe thead th {\n",
       "        text-align: right;\n",
       "    }\n",
       "</style>\n",
       "<table border=\"1\" class=\"dataframe\">\n",
       "  <thead>\n",
       "    <tr style=\"text-align: right;\">\n",
       "      <th></th>\n",
       "      <th>Gender</th>\n",
       "      <th>Total Count</th>\n",
       "      <th>Percent</th>\n",
       "    </tr>\n",
       "  </thead>\n",
       "  <tbody>\n",
       "    <tr>\n",
       "      <th>0</th>\n",
       "      <td>Female</td>\n",
       "      <td>81</td>\n",
       "      <td>14.0</td>\n",
       "    </tr>\n",
       "    <tr>\n",
       "      <th>1</th>\n",
       "      <td>Male</td>\n",
       "      <td>484</td>\n",
       "      <td>84.0</td>\n",
       "    </tr>\n",
       "    <tr>\n",
       "      <th>2</th>\n",
       "      <td>Other/non-disclosing</td>\n",
       "      <td>11</td>\n",
       "      <td>2.0</td>\n",
       "    </tr>\n",
       "  </tbody>\n",
       "</table>\n",
       "</div>"
      ],
      "text/plain": [
       "                 Gender  Total Count  Percent\n",
       "0                Female           81     14.0\n",
       "1                  Male          484     84.0\n",
       "2  Other/non-disclosing           11      2.0"
      ]
     },
     "execution_count": 6,
     "metadata": {},
     "output_type": "execute_result"
    }
   ],
   "source": [
    "#To count genders, needed to get rid of duplicate entries. Because each purchase by a different person\n",
    "#is entered individually, with repeats if someone made more than one purchase.\n",
    "\n",
    "df_uniq = df.sort_values('SN')\n",
    "df_uniq = df_uniq.drop_duplicates(subset='SN', keep='first')\n",
    "df.count()\n",
    "df_uniq.count()\n",
    "\n",
    "gby_gender_uniq = df_uniq.groupby(['Gender'])\n",
    "gender_count = gby_gender_uniq['SN'].count()\n",
    "gender_count\n",
    "\n",
    "#put all of the values calculated above into the gender demo dict\n",
    "\n",
    "percent_female = round(gender_count[0]/gender_count.sum() * 100)\n",
    "percent_male = round(gender_count[1]/gender_count.sum() * 100)\n",
    "percent_other = round(gender_count[2]/gender_count.sum() * 100)\n",
    "\n",
    "Gender_demographics = [{'Gender': 'Female', 'Total Count' : gender_count[0], 'Percent': percent_female},\n",
    "                   {'Gender': 'Male', 'Total Count' : gender_count[1], 'Percent': percent_male},\n",
    "                    {'Gender': 'Other/non-disclosing', 'Total Count' : gender_count[2], 'Percent': percent_other}]\n",
    "                       \n",
    "Gender_demographics_df = pd.DataFrame.from_dict(Gender_demographics)\n",
    "               \n",
    "Gender_demographics_df\n"
   ]
  },
  {
   "cell_type": "markdown",
   "metadata": {},
   "source": [
    "# Purchasing Analysis by Gender"
   ]
  },
  {
   "cell_type": "code",
   "execution_count": 7,
   "metadata": {},
   "outputs": [
    {
     "data": {
      "text/html": [
       "<div>\n",
       "<style scoped>\n",
       "    .dataframe tbody tr th:only-of-type {\n",
       "        vertical-align: middle;\n",
       "    }\n",
       "\n",
       "    .dataframe tbody tr th {\n",
       "        vertical-align: top;\n",
       "    }\n",
       "\n",
       "    .dataframe thead th {\n",
       "        text-align: right;\n",
       "    }\n",
       "</style>\n",
       "<table border=\"1\" class=\"dataframe\">\n",
       "  <thead>\n",
       "    <tr style=\"text-align: right;\">\n",
       "      <th></th>\n",
       "      <th>Gender</th>\n",
       "      <th>Average Purchase Price</th>\n",
       "      <th>Total Purchases</th>\n",
       "      <th>Avg Total per person</th>\n",
       "    </tr>\n",
       "  </thead>\n",
       "  <tbody>\n",
       "    <tr>\n",
       "      <th>0</th>\n",
       "      <td>Female</td>\n",
       "      <td>3.20</td>\n",
       "      <td>362.0</td>\n",
       "      <td>4.47</td>\n",
       "    </tr>\n",
       "    <tr>\n",
       "      <th>1</th>\n",
       "      <td>Male</td>\n",
       "      <td>3.02</td>\n",
       "      <td>1968.0</td>\n",
       "      <td>4.07</td>\n",
       "    </tr>\n",
       "    <tr>\n",
       "      <th>2</th>\n",
       "      <td>Other/ND</td>\n",
       "      <td>3.35</td>\n",
       "      <td>50.0</td>\n",
       "      <td>4.56</td>\n",
       "    </tr>\n",
       "  </tbody>\n",
       "</table>\n",
       "</div>"
      ],
      "text/plain": [
       "     Gender  Average Purchase Price  Total Purchases  Avg Total per person\n",
       "0    Female                    3.20            362.0                  4.47\n",
       "1      Male                    3.02           1968.0                  4.07\n",
       "2  Other/ND                    3.35             50.0                  4.56"
      ]
     },
     "execution_count": 7,
     "metadata": {},
     "output_type": "execute_result"
    }
   ],
   "source": [
    "#Analysis by gender\n",
    "\n",
    "\n",
    "gby_gender = df.groupby(['Gender'])\n",
    "avgprice_by_gender = round(gby_gender['Price'].mean(),2)\n",
    "count_by_gender = gby_gender['Price'].count()\n",
    "total_by_gender = gby_gender['Price'].sum()\n",
    "\n",
    "female_avg_purch = round(total_by_gender[0]/gender_count[0],2) # calculated in above section\n",
    "male_avg_purch = round(total_by_gender[1]/gender_count[1],2)\n",
    "OND_avg_purch = round(total_by_gender[2]/gender_count[2],2)\n",
    "\n",
    "# add avg prices by gender to dict\n",
    "gender_analysis = [{'Gender':'Female', 'Average Purchase Price': avgprice_by_gender[0],\n",
    "                    'Total Purchases':round(total_by_gender[0]), 'Avg Total per person': female_avg_purch},\n",
    "                   {'Gender':'Male', 'Average Purchase Price': avgprice_by_gender[1],\n",
    "                    'Total Purchases':round(total_by_gender[1]), 'Avg Total per person': male_avg_purch},\n",
    "                   {'Gender':'Other/ND', 'Average Purchase Price': avgprice_by_gender[2],\n",
    "                    'Total Purchases':round(total_by_gender[2]), 'Avg Total per person': OND_avg_purch}]\n",
    "                   \n",
    "gender_analysis_df = pd.DataFrame.from_dict(gender_analysis)\n",
    "               \n",
    "gender_analysis_df\n",
    "\n"
   ]
  },
  {
   "cell_type": "markdown",
   "metadata": {},
   "source": [
    "# Age demographics"
   ]
  }
 ],
 "metadata": {
  "kernelspec": {
   "display_name": "Python [conda env:PythonData] *",
   "language": "python",
   "name": "conda-env-PythonData-py"
  },
  "language_info": {
   "codemirror_mode": {
    "name": "ipython",
    "version": 3
   },
   "file_extension": ".py",
   "mimetype": "text/x-python",
   "name": "python",
   "nbconvert_exporter": "python",
   "pygments_lexer": "ipython3",
   "version": "3.6.10"
  }
 },
 "nbformat": 4,
 "nbformat_minor": 4
}
